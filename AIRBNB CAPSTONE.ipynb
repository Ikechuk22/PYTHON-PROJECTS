{
 "cells": [
  {
   "cell_type": "markdown",
   "id": "7a0dce4d-c379-45c6-9883-1f4d3763340d",
   "metadata": {
    "tags": []
   },
   "source": [
    "# DATA LOADING\n"
   ]
  },
  {
   "cell_type": "code",
   "execution_count": 1,
   "id": "4562aff9-961a-41f5-b265-9d293c931d4f",
   "metadata": {},
   "outputs": [],
   "source": [
    "import pandas as pd\n",
    "import numpy as np\n",
    "import matplotlib.pyplot as plt\n",
    "import seaborn as sns\n",
    "sns.set()"
   ]
  },
  {
   "cell_type": "code",
   "execution_count": 11,
   "id": "e4ad2e1b-235d-441d-8e99-9ade252487b3",
   "metadata": {},
   "outputs": [
    {
     "name": "stderr",
     "output_type": "stream",
     "text": [
      "/var/folders/j3/4dg3qbjs02dd9npt7kl3c96c0000gn/T/ipykernel_63731/1111277720.py:2: DtypeWarning: Columns (25) have mixed types. Specify dtype option on import or set low_memory=False.\n",
      "  df = pd.read_csv(\"/Users/loveomashor/Documents/abnb.csv\")\n"
     ]
    }
   ],
   "source": [
    "#importing the airbnb file\n",
    "df = pd.read_csv(\"/Users/loveomashor/Documents/abnb.csv\")\n"
   ]
  },
  {
   "cell_type": "code",
   "execution_count": 8,
   "id": "2a05eacf-86ac-4c6e-9897-8e9ef72c6356",
   "metadata": {},
   "outputs": [
    {
     "data": {
      "text/html": [
       "<div>\n",
       "<style scoped>\n",
       "    .dataframe tbody tr th:only-of-type {\n",
       "        vertical-align: middle;\n",
       "    }\n",
       "\n",
       "    .dataframe tbody tr th {\n",
       "        vertical-align: top;\n",
       "    }\n",
       "\n",
       "    .dataframe thead th {\n",
       "        text-align: right;\n",
       "    }\n",
       "</style>\n",
       "<table border=\"1\" class=\"dataframe\">\n",
       "  <thead>\n",
       "    <tr style=\"text-align: right;\">\n",
       "      <th></th>\n",
       "      <th>id</th>\n",
       "      <th>NAME</th>\n",
       "      <th>host id</th>\n",
       "      <th>host_identity_verified</th>\n",
       "      <th>host name</th>\n",
       "      <th>neighbourhood group</th>\n",
       "      <th>neighbourhood</th>\n",
       "      <th>lat</th>\n",
       "      <th>long</th>\n",
       "      <th>country</th>\n",
       "      <th>...</th>\n",
       "      <th>service fee</th>\n",
       "      <th>minimum nights</th>\n",
       "      <th>number of reviews</th>\n",
       "      <th>last review</th>\n",
       "      <th>reviews per month</th>\n",
       "      <th>review rate number</th>\n",
       "      <th>calculated host listings count</th>\n",
       "      <th>availability 365</th>\n",
       "      <th>house_rules</th>\n",
       "      <th>license</th>\n",
       "    </tr>\n",
       "  </thead>\n",
       "  <tbody>\n",
       "    <tr>\n",
       "      <th>0</th>\n",
       "      <td>1001254</td>\n",
       "      <td>Clean &amp; quiet apt home by the park</td>\n",
       "      <td>80014485718</td>\n",
       "      <td>unconfirmed</td>\n",
       "      <td>Madaline</td>\n",
       "      <td>Brooklyn</td>\n",
       "      <td>Kensington</td>\n",
       "      <td>40.64749</td>\n",
       "      <td>-73.97237</td>\n",
       "      <td>United States</td>\n",
       "      <td>...</td>\n",
       "      <td>$193</td>\n",
       "      <td>10.0</td>\n",
       "      <td>9.0</td>\n",
       "      <td>10/19/2021</td>\n",
       "      <td>0.21</td>\n",
       "      <td>4.0</td>\n",
       "      <td>6.0</td>\n",
       "      <td>286.0</td>\n",
       "      <td>Clean up and treat the home the way you'd like...</td>\n",
       "      <td>NaN</td>\n",
       "    </tr>\n",
       "    <tr>\n",
       "      <th>1</th>\n",
       "      <td>1002102</td>\n",
       "      <td>Skylit Midtown Castle</td>\n",
       "      <td>52335172823</td>\n",
       "      <td>verified</td>\n",
       "      <td>Jenna</td>\n",
       "      <td>Manhattan</td>\n",
       "      <td>Midtown</td>\n",
       "      <td>40.75362</td>\n",
       "      <td>-73.98377</td>\n",
       "      <td>United States</td>\n",
       "      <td>...</td>\n",
       "      <td>$28</td>\n",
       "      <td>30.0</td>\n",
       "      <td>45.0</td>\n",
       "      <td>5/21/2022</td>\n",
       "      <td>0.38</td>\n",
       "      <td>4.0</td>\n",
       "      <td>2.0</td>\n",
       "      <td>228.0</td>\n",
       "      <td>Pet friendly but please confirm with me if the...</td>\n",
       "      <td>NaN</td>\n",
       "    </tr>\n",
       "    <tr>\n",
       "      <th>2</th>\n",
       "      <td>1002403</td>\n",
       "      <td>THE VILLAGE OF HARLEM....NEW YORK !</td>\n",
       "      <td>78829239556</td>\n",
       "      <td>NaN</td>\n",
       "      <td>Elise</td>\n",
       "      <td>Manhattan</td>\n",
       "      <td>Harlem</td>\n",
       "      <td>40.80902</td>\n",
       "      <td>-73.94190</td>\n",
       "      <td>United States</td>\n",
       "      <td>...</td>\n",
       "      <td>$124</td>\n",
       "      <td>3.0</td>\n",
       "      <td>0.0</td>\n",
       "      <td>NaN</td>\n",
       "      <td>NaN</td>\n",
       "      <td>5.0</td>\n",
       "      <td>1.0</td>\n",
       "      <td>352.0</td>\n",
       "      <td>I encourage you to use my kitchen, cooking and...</td>\n",
       "      <td>NaN</td>\n",
       "    </tr>\n",
       "    <tr>\n",
       "      <th>3</th>\n",
       "      <td>1002755</td>\n",
       "      <td>NaN</td>\n",
       "      <td>85098326012</td>\n",
       "      <td>unconfirmed</td>\n",
       "      <td>Garry</td>\n",
       "      <td>Brooklyn</td>\n",
       "      <td>Clinton Hill</td>\n",
       "      <td>40.68514</td>\n",
       "      <td>-73.95976</td>\n",
       "      <td>United States</td>\n",
       "      <td>...</td>\n",
       "      <td>$74</td>\n",
       "      <td>30.0</td>\n",
       "      <td>270.0</td>\n",
       "      <td>7/5/2019</td>\n",
       "      <td>4.64</td>\n",
       "      <td>4.0</td>\n",
       "      <td>1.0</td>\n",
       "      <td>322.0</td>\n",
       "      <td>NaN</td>\n",
       "      <td>NaN</td>\n",
       "    </tr>\n",
       "    <tr>\n",
       "      <th>4</th>\n",
       "      <td>1003689</td>\n",
       "      <td>Entire Apt: Spacious Studio/Loft by central park</td>\n",
       "      <td>92037596077</td>\n",
       "      <td>verified</td>\n",
       "      <td>Lyndon</td>\n",
       "      <td>Manhattan</td>\n",
       "      <td>East Harlem</td>\n",
       "      <td>40.79851</td>\n",
       "      <td>-73.94399</td>\n",
       "      <td>United States</td>\n",
       "      <td>...</td>\n",
       "      <td>$41</td>\n",
       "      <td>10.0</td>\n",
       "      <td>9.0</td>\n",
       "      <td>11/19/2018</td>\n",
       "      <td>0.10</td>\n",
       "      <td>3.0</td>\n",
       "      <td>1.0</td>\n",
       "      <td>289.0</td>\n",
       "      <td>Please no smoking in the house, porch or on th...</td>\n",
       "      <td>NaN</td>\n",
       "    </tr>\n",
       "  </tbody>\n",
       "</table>\n",
       "<p>5 rows × 26 columns</p>\n",
       "</div>"
      ],
      "text/plain": [
       "        id                                              NAME      host id  \\\n",
       "0  1001254                Clean & quiet apt home by the park  80014485718   \n",
       "1  1002102                             Skylit Midtown Castle  52335172823   \n",
       "2  1002403               THE VILLAGE OF HARLEM....NEW YORK !  78829239556   \n",
       "3  1002755                                               NaN  85098326012   \n",
       "4  1003689  Entire Apt: Spacious Studio/Loft by central park  92037596077   \n",
       "\n",
       "  host_identity_verified host name neighbourhood group neighbourhood  \\\n",
       "0            unconfirmed  Madaline            Brooklyn    Kensington   \n",
       "1               verified     Jenna           Manhattan       Midtown   \n",
       "2                    NaN     Elise           Manhattan        Harlem   \n",
       "3            unconfirmed     Garry            Brooklyn  Clinton Hill   \n",
       "4               verified    Lyndon           Manhattan   East Harlem   \n",
       "\n",
       "        lat      long        country  ... service fee minimum nights  \\\n",
       "0  40.64749 -73.97237  United States  ...       $193            10.0   \n",
       "1  40.75362 -73.98377  United States  ...        $28            30.0   \n",
       "2  40.80902 -73.94190  United States  ...       $124             3.0   \n",
       "3  40.68514 -73.95976  United States  ...        $74            30.0   \n",
       "4  40.79851 -73.94399  United States  ...        $41            10.0   \n",
       "\n",
       "  number of reviews last review  reviews per month review rate number  \\\n",
       "0               9.0  10/19/2021               0.21                4.0   \n",
       "1              45.0   5/21/2022               0.38                4.0   \n",
       "2               0.0         NaN                NaN                5.0   \n",
       "3             270.0    7/5/2019               4.64                4.0   \n",
       "4               9.0  11/19/2018               0.10                3.0   \n",
       "\n",
       "  calculated host listings count  availability 365  \\\n",
       "0                            6.0             286.0   \n",
       "1                            2.0             228.0   \n",
       "2                            1.0             352.0   \n",
       "3                            1.0             322.0   \n",
       "4                            1.0             289.0   \n",
       "\n",
       "                                         house_rules license  \n",
       "0  Clean up and treat the home the way you'd like...     NaN  \n",
       "1  Pet friendly but please confirm with me if the...     NaN  \n",
       "2  I encourage you to use my kitchen, cooking and...     NaN  \n",
       "3                                                NaN     NaN  \n",
       "4  Please no smoking in the house, porch or on th...     NaN  \n",
       "\n",
       "[5 rows x 26 columns]"
      ]
     },
     "execution_count": 8,
     "metadata": {},
     "output_type": "execute_result"
    }
   ],
   "source": [
    "#Displaying the first five rows\n",
    "df.head()"
   ]
  },
  {
   "cell_type": "code",
   "execution_count": 9,
   "id": "c4c5f687-836a-47c3-8a45-7610b6cd5f3e",
   "metadata": {},
   "outputs": [
    {
     "data": {
      "text/plain": [
       "id                                  int64\n",
       "NAME                               object\n",
       "host id                             int64\n",
       "host_identity_verified             object\n",
       "host name                          object\n",
       "neighbourhood group                object\n",
       "neighbourhood                      object\n",
       "lat                               float64\n",
       "long                              float64\n",
       "country                            object\n",
       "country code                       object\n",
       "instant_bookable                   object\n",
       "cancellation_policy                object\n",
       "room type                          object\n",
       "Construction year                 float64\n",
       "price                              object\n",
       "service fee                        object\n",
       "minimum nights                    float64\n",
       "number of reviews                 float64\n",
       "last review                        object\n",
       "reviews per month                 float64\n",
       "review rate number                float64\n",
       "calculated host listings count    float64\n",
       "availability 365                  float64\n",
       "house_rules                        object\n",
       "license                            object\n",
       "dtype: object"
      ]
     },
     "execution_count": 9,
     "metadata": {},
     "output_type": "execute_result"
    }
   ],
   "source": [
    "#showing the data type\n",
    "df.dtypes"
   ]
  },
  {
   "cell_type": "markdown",
   "id": "5edb13c9-7038-48f4-84be-d0ee678d7e55",
   "metadata": {},
   "source": [
    "\n",
    "# DATA CLEANING\n"
   ]
  },
  {
   "cell_type": "code",
   "execution_count": 3,
   "id": "33effb6d-6278-4195-9d77-df68a29b2de9",
   "metadata": {},
   "outputs": [],
   "source": [
    "df.drop(columns=[\"id\", \"host id\",\"country code\",\"country\"], axis=1 inplace=True)"
   ]
  },
  {
   "cell_type": "code",
   "execution_count": 10,
   "id": "061305f6-3af2-4af7-8fa6-1e54e4b09eca",
   "metadata": {},
   "outputs": [
    {
     "data": {
      "text/html": [
       "<div>\n",
       "<style scoped>\n",
       "    .dataframe tbody tr th:only-of-type {\n",
       "        vertical-align: middle;\n",
       "    }\n",
       "\n",
       "    .dataframe tbody tr th {\n",
       "        vertical-align: top;\n",
       "    }\n",
       "\n",
       "    .dataframe thead th {\n",
       "        text-align: right;\n",
       "    }\n",
       "</style>\n",
       "<table border=\"1\" class=\"dataframe\">\n",
       "  <thead>\n",
       "    <tr style=\"text-align: right;\">\n",
       "      <th></th>\n",
       "      <th>id</th>\n",
       "      <th>NAME</th>\n",
       "      <th>host id</th>\n",
       "      <th>host_identity_verified</th>\n",
       "      <th>host name</th>\n",
       "      <th>neighbourhood group</th>\n",
       "      <th>neighbourhood</th>\n",
       "      <th>lat</th>\n",
       "      <th>long</th>\n",
       "      <th>country</th>\n",
       "      <th>...</th>\n",
       "      <th>service fee</th>\n",
       "      <th>minimum nights</th>\n",
       "      <th>number of reviews</th>\n",
       "      <th>last review</th>\n",
       "      <th>reviews per month</th>\n",
       "      <th>review rate number</th>\n",
       "      <th>calculated host listings count</th>\n",
       "      <th>availability 365</th>\n",
       "      <th>house_rules</th>\n",
       "      <th>license</th>\n",
       "    </tr>\n",
       "  </thead>\n",
       "  <tbody>\n",
       "    <tr>\n",
       "      <th>0</th>\n",
       "      <td>1001254</td>\n",
       "      <td>Clean &amp; quiet apt home by the park</td>\n",
       "      <td>80014485718</td>\n",
       "      <td>unconfirmed</td>\n",
       "      <td>Madaline</td>\n",
       "      <td>Brooklyn</td>\n",
       "      <td>Kensington</td>\n",
       "      <td>40.64749</td>\n",
       "      <td>-73.97237</td>\n",
       "      <td>United States</td>\n",
       "      <td>...</td>\n",
       "      <td>$193</td>\n",
       "      <td>10.0</td>\n",
       "      <td>9.0</td>\n",
       "      <td>10/19/2021</td>\n",
       "      <td>0.21</td>\n",
       "      <td>4.0</td>\n",
       "      <td>6.0</td>\n",
       "      <td>286.0</td>\n",
       "      <td>Clean up and treat the home the way you'd like...</td>\n",
       "      <td>NaN</td>\n",
       "    </tr>\n",
       "    <tr>\n",
       "      <th>1</th>\n",
       "      <td>1002102</td>\n",
       "      <td>Skylit Midtown Castle</td>\n",
       "      <td>52335172823</td>\n",
       "      <td>verified</td>\n",
       "      <td>Jenna</td>\n",
       "      <td>Manhattan</td>\n",
       "      <td>Midtown</td>\n",
       "      <td>40.75362</td>\n",
       "      <td>-73.98377</td>\n",
       "      <td>United States</td>\n",
       "      <td>...</td>\n",
       "      <td>$28</td>\n",
       "      <td>30.0</td>\n",
       "      <td>45.0</td>\n",
       "      <td>5/21/2022</td>\n",
       "      <td>0.38</td>\n",
       "      <td>4.0</td>\n",
       "      <td>2.0</td>\n",
       "      <td>228.0</td>\n",
       "      <td>Pet friendly but please confirm with me if the...</td>\n",
       "      <td>NaN</td>\n",
       "    </tr>\n",
       "    <tr>\n",
       "      <th>2</th>\n",
       "      <td>1002403</td>\n",
       "      <td>THE VILLAGE OF HARLEM....NEW YORK !</td>\n",
       "      <td>78829239556</td>\n",
       "      <td>NaN</td>\n",
       "      <td>Elise</td>\n",
       "      <td>Manhattan</td>\n",
       "      <td>Harlem</td>\n",
       "      <td>40.80902</td>\n",
       "      <td>-73.94190</td>\n",
       "      <td>United States</td>\n",
       "      <td>...</td>\n",
       "      <td>$124</td>\n",
       "      <td>3.0</td>\n",
       "      <td>0.0</td>\n",
       "      <td>NaN</td>\n",
       "      <td>NaN</td>\n",
       "      <td>5.0</td>\n",
       "      <td>1.0</td>\n",
       "      <td>352.0</td>\n",
       "      <td>I encourage you to use my kitchen, cooking and...</td>\n",
       "      <td>NaN</td>\n",
       "    </tr>\n",
       "    <tr>\n",
       "      <th>3</th>\n",
       "      <td>1002755</td>\n",
       "      <td>NaN</td>\n",
       "      <td>85098326012</td>\n",
       "      <td>unconfirmed</td>\n",
       "      <td>Garry</td>\n",
       "      <td>Brooklyn</td>\n",
       "      <td>Clinton Hill</td>\n",
       "      <td>40.68514</td>\n",
       "      <td>-73.95976</td>\n",
       "      <td>United States</td>\n",
       "      <td>...</td>\n",
       "      <td>$74</td>\n",
       "      <td>30.0</td>\n",
       "      <td>270.0</td>\n",
       "      <td>7/5/2019</td>\n",
       "      <td>4.64</td>\n",
       "      <td>4.0</td>\n",
       "      <td>1.0</td>\n",
       "      <td>322.0</td>\n",
       "      <td>NaN</td>\n",
       "      <td>NaN</td>\n",
       "    </tr>\n",
       "    <tr>\n",
       "      <th>4</th>\n",
       "      <td>1003689</td>\n",
       "      <td>Entire Apt: Spacious Studio/Loft by central park</td>\n",
       "      <td>92037596077</td>\n",
       "      <td>verified</td>\n",
       "      <td>Lyndon</td>\n",
       "      <td>Manhattan</td>\n",
       "      <td>East Harlem</td>\n",
       "      <td>40.79851</td>\n",
       "      <td>-73.94399</td>\n",
       "      <td>United States</td>\n",
       "      <td>...</td>\n",
       "      <td>$41</td>\n",
       "      <td>10.0</td>\n",
       "      <td>9.0</td>\n",
       "      <td>11/19/2018</td>\n",
       "      <td>0.10</td>\n",
       "      <td>3.0</td>\n",
       "      <td>1.0</td>\n",
       "      <td>289.0</td>\n",
       "      <td>Please no smoking in the house, porch or on th...</td>\n",
       "      <td>NaN</td>\n",
       "    </tr>\n",
       "    <tr>\n",
       "      <th>...</th>\n",
       "      <td>...</td>\n",
       "      <td>...</td>\n",
       "      <td>...</td>\n",
       "      <td>...</td>\n",
       "      <td>...</td>\n",
       "      <td>...</td>\n",
       "      <td>...</td>\n",
       "      <td>...</td>\n",
       "      <td>...</td>\n",
       "      <td>...</td>\n",
       "      <td>...</td>\n",
       "      <td>...</td>\n",
       "      <td>...</td>\n",
       "      <td>...</td>\n",
       "      <td>...</td>\n",
       "      <td>...</td>\n",
       "      <td>...</td>\n",
       "      <td>...</td>\n",
       "      <td>...</td>\n",
       "      <td>...</td>\n",
       "      <td>...</td>\n",
       "    </tr>\n",
       "    <tr>\n",
       "      <th>102594</th>\n",
       "      <td>6092437</td>\n",
       "      <td>Spare room in Williamsburg</td>\n",
       "      <td>12312296767</td>\n",
       "      <td>verified</td>\n",
       "      <td>Krik</td>\n",
       "      <td>Brooklyn</td>\n",
       "      <td>Williamsburg</td>\n",
       "      <td>40.70862</td>\n",
       "      <td>-73.94651</td>\n",
       "      <td>United States</td>\n",
       "      <td>...</td>\n",
       "      <td>$169</td>\n",
       "      <td>1.0</td>\n",
       "      <td>0.0</td>\n",
       "      <td>NaN</td>\n",
       "      <td>NaN</td>\n",
       "      <td>3.0</td>\n",
       "      <td>1.0</td>\n",
       "      <td>227.0</td>\n",
       "      <td>No Smoking No Parties or Events of any kind Pl...</td>\n",
       "      <td>NaN</td>\n",
       "    </tr>\n",
       "    <tr>\n",
       "      <th>102595</th>\n",
       "      <td>6092990</td>\n",
       "      <td>Best Location near Columbia U</td>\n",
       "      <td>77864383453</td>\n",
       "      <td>unconfirmed</td>\n",
       "      <td>Mifan</td>\n",
       "      <td>Manhattan</td>\n",
       "      <td>Morningside Heights</td>\n",
       "      <td>40.80460</td>\n",
       "      <td>-73.96545</td>\n",
       "      <td>United States</td>\n",
       "      <td>...</td>\n",
       "      <td>$167</td>\n",
       "      <td>1.0</td>\n",
       "      <td>1.0</td>\n",
       "      <td>7/6/2015</td>\n",
       "      <td>0.02</td>\n",
       "      <td>2.0</td>\n",
       "      <td>2.0</td>\n",
       "      <td>395.0</td>\n",
       "      <td>House rules: Guests agree to the following ter...</td>\n",
       "      <td>NaN</td>\n",
       "    </tr>\n",
       "    <tr>\n",
       "      <th>102596</th>\n",
       "      <td>6093542</td>\n",
       "      <td>Comfy, bright room in Brooklyn</td>\n",
       "      <td>69050334417</td>\n",
       "      <td>unconfirmed</td>\n",
       "      <td>Megan</td>\n",
       "      <td>Brooklyn</td>\n",
       "      <td>Park Slope</td>\n",
       "      <td>40.67505</td>\n",
       "      <td>-73.98045</td>\n",
       "      <td>United States</td>\n",
       "      <td>...</td>\n",
       "      <td>$198</td>\n",
       "      <td>3.0</td>\n",
       "      <td>0.0</td>\n",
       "      <td>NaN</td>\n",
       "      <td>NaN</td>\n",
       "      <td>5.0</td>\n",
       "      <td>1.0</td>\n",
       "      <td>342.0</td>\n",
       "      <td>NaN</td>\n",
       "      <td>NaN</td>\n",
       "    </tr>\n",
       "    <tr>\n",
       "      <th>102597</th>\n",
       "      <td>6094094</td>\n",
       "      <td>Big Studio-One Stop from Midtown</td>\n",
       "      <td>11160591270</td>\n",
       "      <td>unconfirmed</td>\n",
       "      <td>Christopher</td>\n",
       "      <td>Queens</td>\n",
       "      <td>Long Island City</td>\n",
       "      <td>40.74989</td>\n",
       "      <td>-73.93777</td>\n",
       "      <td>United States</td>\n",
       "      <td>...</td>\n",
       "      <td>$109</td>\n",
       "      <td>2.0</td>\n",
       "      <td>5.0</td>\n",
       "      <td>10/11/2015</td>\n",
       "      <td>0.10</td>\n",
       "      <td>3.0</td>\n",
       "      <td>1.0</td>\n",
       "      <td>386.0</td>\n",
       "      <td>NaN</td>\n",
       "      <td>NaN</td>\n",
       "    </tr>\n",
       "    <tr>\n",
       "      <th>102598</th>\n",
       "      <td>6094647</td>\n",
       "      <td>585 sf Luxury Studio</td>\n",
       "      <td>68170633372</td>\n",
       "      <td>unconfirmed</td>\n",
       "      <td>Rebecca</td>\n",
       "      <td>Manhattan</td>\n",
       "      <td>Upper West Side</td>\n",
       "      <td>40.76807</td>\n",
       "      <td>-73.98342</td>\n",
       "      <td>United States</td>\n",
       "      <td>...</td>\n",
       "      <td>$206</td>\n",
       "      <td>1.0</td>\n",
       "      <td>0.0</td>\n",
       "      <td>NaN</td>\n",
       "      <td>NaN</td>\n",
       "      <td>3.0</td>\n",
       "      <td>1.0</td>\n",
       "      <td>69.0</td>\n",
       "      <td>NaN</td>\n",
       "      <td>NaN</td>\n",
       "    </tr>\n",
       "  </tbody>\n",
       "</table>\n",
       "<p>102599 rows × 26 columns</p>\n",
       "</div>"
      ],
      "text/plain": [
       "             id                                              NAME  \\\n",
       "0       1001254                Clean & quiet apt home by the park   \n",
       "1       1002102                             Skylit Midtown Castle   \n",
       "2       1002403               THE VILLAGE OF HARLEM....NEW YORK !   \n",
       "3       1002755                                               NaN   \n",
       "4       1003689  Entire Apt: Spacious Studio/Loft by central park   \n",
       "...         ...                                               ...   \n",
       "102594  6092437                        Spare room in Williamsburg   \n",
       "102595  6092990                     Best Location near Columbia U   \n",
       "102596  6093542                    Comfy, bright room in Brooklyn   \n",
       "102597  6094094                  Big Studio-One Stop from Midtown   \n",
       "102598  6094647                              585 sf Luxury Studio   \n",
       "\n",
       "            host id host_identity_verified    host name neighbourhood group  \\\n",
       "0       80014485718            unconfirmed     Madaline            Brooklyn   \n",
       "1       52335172823               verified        Jenna           Manhattan   \n",
       "2       78829239556                    NaN        Elise           Manhattan   \n",
       "3       85098326012            unconfirmed        Garry            Brooklyn   \n",
       "4       92037596077               verified       Lyndon           Manhattan   \n",
       "...             ...                    ...          ...                 ...   \n",
       "102594  12312296767               verified         Krik            Brooklyn   \n",
       "102595  77864383453            unconfirmed        Mifan           Manhattan   \n",
       "102596  69050334417            unconfirmed        Megan            Brooklyn   \n",
       "102597  11160591270            unconfirmed  Christopher              Queens   \n",
       "102598  68170633372            unconfirmed      Rebecca           Manhattan   \n",
       "\n",
       "              neighbourhood       lat      long        country  ...  \\\n",
       "0                Kensington  40.64749 -73.97237  United States  ...   \n",
       "1                   Midtown  40.75362 -73.98377  United States  ...   \n",
       "2                    Harlem  40.80902 -73.94190  United States  ...   \n",
       "3              Clinton Hill  40.68514 -73.95976  United States  ...   \n",
       "4               East Harlem  40.79851 -73.94399  United States  ...   \n",
       "...                     ...       ...       ...            ...  ...   \n",
       "102594         Williamsburg  40.70862 -73.94651  United States  ...   \n",
       "102595  Morningside Heights  40.80460 -73.96545  United States  ...   \n",
       "102596           Park Slope  40.67505 -73.98045  United States  ...   \n",
       "102597     Long Island City  40.74989 -73.93777  United States  ...   \n",
       "102598      Upper West Side  40.76807 -73.98342  United States  ...   \n",
       "\n",
       "       service fee minimum nights number of reviews last review  \\\n",
       "0            $193            10.0               9.0  10/19/2021   \n",
       "1             $28            30.0              45.0   5/21/2022   \n",
       "2            $124             3.0               0.0         NaN   \n",
       "3             $74            30.0             270.0    7/5/2019   \n",
       "4             $41            10.0               9.0  11/19/2018   \n",
       "...            ...            ...               ...         ...   \n",
       "102594       $169             1.0               0.0         NaN   \n",
       "102595       $167             1.0               1.0    7/6/2015   \n",
       "102596       $198             3.0               0.0         NaN   \n",
       "102597       $109             2.0               5.0  10/11/2015   \n",
       "102598       $206             1.0               0.0         NaN   \n",
       "\n",
       "        reviews per month review rate number calculated host listings count  \\\n",
       "0                    0.21                4.0                            6.0   \n",
       "1                    0.38                4.0                            2.0   \n",
       "2                     NaN                5.0                            1.0   \n",
       "3                    4.64                4.0                            1.0   \n",
       "4                    0.10                3.0                            1.0   \n",
       "...                   ...                ...                            ...   \n",
       "102594                NaN                3.0                            1.0   \n",
       "102595               0.02                2.0                            2.0   \n",
       "102596                NaN                5.0                            1.0   \n",
       "102597               0.10                3.0                            1.0   \n",
       "102598                NaN                3.0                            1.0   \n",
       "\n",
       "        availability 365                                        house_rules  \\\n",
       "0                  286.0  Clean up and treat the home the way you'd like...   \n",
       "1                  228.0  Pet friendly but please confirm with me if the...   \n",
       "2                  352.0  I encourage you to use my kitchen, cooking and...   \n",
       "3                  322.0                                                NaN   \n",
       "4                  289.0  Please no smoking in the house, porch or on th...   \n",
       "...                  ...                                                ...   \n",
       "102594             227.0  No Smoking No Parties or Events of any kind Pl...   \n",
       "102595             395.0  House rules: Guests agree to the following ter...   \n",
       "102596             342.0                                                NaN   \n",
       "102597             386.0                                                NaN   \n",
       "102598              69.0                                                NaN   \n",
       "\n",
       "       license  \n",
       "0          NaN  \n",
       "1          NaN  \n",
       "2          NaN  \n",
       "3          NaN  \n",
       "4          NaN  \n",
       "...        ...  \n",
       "102594     NaN  \n",
       "102595     NaN  \n",
       "102596     NaN  \n",
       "102597     NaN  \n",
       "102598     NaN  \n",
       "\n",
       "[102599 rows x 26 columns]"
      ]
     },
     "execution_count": 10,
     "metadata": {},
     "output_type": "execute_result"
    }
   ],
   "source": [
    "df"
   ]
  },
  {
   "cell_type": "code",
   "execution_count": 12,
   "id": "dcb63330-c887-4736-ab9b-8e4bfe3f1ff9",
   "metadata": {},
   "outputs": [
    {
     "data": {
      "text/plain": [
       "id                                     0\n",
       "room type                              0\n",
       "host id                                0\n",
       "long                                   8\n",
       "lat                                    8\n",
       "neighbourhood                         16\n",
       "neighbourhood group                   29\n",
       "cancellation_policy                   76\n",
       "instant_bookable                     105\n",
       "country code                         131\n",
       "number of reviews                    183\n",
       "Construction year                    214\n",
       "price                                247\n",
       "NAME                                 250\n",
       "service fee                          273\n",
       "host_identity_verified               289\n",
       "calculated host listings count       319\n",
       "review rate number                   326\n",
       "host name                            406\n",
       "minimum nights                       409\n",
       "availability 365                     448\n",
       "country                              532\n",
       "reviews per month                  15879\n",
       "last review                        15893\n",
       "house_rules                        52131\n",
       "license                           102597\n",
       "dtype: int64"
      ]
     },
     "execution_count": 12,
     "metadata": {},
     "output_type": "execute_result"
    }
   ],
   "source": [
    "#checking for missing data\n",
    "df.isnull().sum().sort_values()"
   ]
  },
  {
   "cell_type": "code",
   "execution_count": 54,
   "id": "98572f18-c5f4-4c5b-b55e-12f199fb50d6",
   "metadata": {},
   "outputs": [
    {
     "name": "stdout",
     "output_type": "stream",
     "text": [
      "name\n",
      "host_identity_verified\n",
      "host_name\n",
      "neighbourhood_group\n",
      "neighbourhood\n",
      "country\n",
      "country_code\n",
      "instant_bookable\n",
      "cancellation_policy\n",
      "room_type\n",
      "price\n",
      "service_fee\n",
      "last_review\n",
      "house_rules\n",
      "license\n"
     ]
    }
   ],
   "source": [
    "for col in df.columns:\n",
    "    if df[col].dtype == 'O':\n",
    "        print(col)\n",
    "        df[str(col)].fillna(value=df[str(col)].mode()[0], inplace=True)\n",
    "    else:\n",
    "        df[str(col)].fillna(value=df[str(col)].median(), inplace=True)"
   ]
  },
  {
   "cell_type": "code",
   "execution_count": 21,
   "id": "3dd7c132-eadc-4461-9e35-7710574ac01f",
   "metadata": {},
   "outputs": [
    {
     "data": {
      "text/plain": [
       "id                                     0\n",
       "NAME                                 250\n",
       "host id                                0\n",
       "host_identity_verified               289\n",
       "host name                            406\n",
       "neighbourhood group                   29\n",
       "neighbourhood                         16\n",
       "lat                                    8\n",
       "long                                   8\n",
       "country                              532\n",
       "country code                         131\n",
       "instant_bookable                     105\n",
       "cancellation_policy                   76\n",
       "room type                              0\n",
       "Construction year                    214\n",
       "price                                247\n",
       "service fee                          273\n",
       "minimum nights                       409\n",
       "number of reviews                    183\n",
       "last review                        15893\n",
       "reviews per month                  15879\n",
       "review rate number                   326\n",
       "calculated host listings count       319\n",
       "availability 365                     448\n",
       "house_rules                        52131\n",
       "license                           102597\n",
       "dtype: int64"
      ]
     },
     "execution_count": 21,
     "metadata": {},
     "output_type": "execute_result"
    }
   ],
   "source": [
    "df.isnull().sum()"
   ]
  },
  {
   "cell_type": "code",
   "execution_count": 22,
   "id": "8979e611-5fd9-4a54-bc4c-5cef709b8ae1",
   "metadata": {},
   "outputs": [
    {
     "data": {
      "text/plain": [
       "541"
      ]
     },
     "execution_count": 22,
     "metadata": {},
     "output_type": "execute_result"
    }
   ],
   "source": [
    "## Check whether there are any duplicate values in the dataframe and if present remove\n",
    "df.duplicated().sum()"
   ]
  },
  {
   "cell_type": "code",
   "execution_count": 23,
   "id": "1ea725b5-3cdd-4142-922a-e99c83f441d0",
   "metadata": {},
   "outputs": [
    {
     "data": {
      "text/plain": [
       "(102599, 26)"
      ]
     },
     "execution_count": 23,
     "metadata": {},
     "output_type": "execute_result"
    }
   ],
   "source": [
    "## Display the total number of records in the dataframe after removing the duplicates\n",
    "df.shape"
   ]
  },
  {
   "cell_type": "markdown",
   "id": "f19b9777-bae9-47a7-a7e8-530c4f0fa292",
   "metadata": {},
   "source": [
    "# DATA TRANSFORMATION\n"
   ]
  },
  {
   "cell_type": "code",
   "execution_count": 27,
   "id": "b906ac87-5681-495e-b522-e9ae4bc0eef2",
   "metadata": {},
   "outputs": [],
   "source": [
    "## Renaming the column\n",
    "df.rename(columns={'availability 365':'Days_booked'},inplace=True)"
   ]
  },
  {
   "cell_type": "code",
   "execution_count": 33,
   "id": "4f987efc-ded1-473a-ac9f-4fdedda1a352",
   "metadata": {},
   "outputs": [
    {
     "data": {
      "text/plain": [
       "Index(['id', 'name', 'host_id', 'host_identity_verified', 'host_name',\n",
       "       'neighbourhood_group', 'neighbourhood', 'lat', 'long', 'country',\n",
       "       'country_code', 'instant_bookable', 'cancellation_policy', 'room_type',\n",
       "       'construction_year', 'price', 'service_fee', 'minimum_nights',\n",
       "       'number_of_reviews', 'last_review', 'reviews_per_month',\n",
       "       'review_rate_number', 'calculated_host_listings_count', 'days_booked',\n",
       "       'house_rules', 'license'],\n",
       "      dtype='object')"
      ]
     },
     "execution_count": 33,
     "metadata": {},
     "output_type": "execute_result"
    }
   ],
   "source": [
    "## Converting all column names to Lowercase and replace the spaces with an underscore\n",
    "df.columns=[col.lower().replace(\" \",\"_\") for col in df.columns]\n",
    "df.columns"
   ]
  },
  {
   "cell_type": "code",
   "execution_count": 85,
   "id": "f5c395ac-d84d-4147-aad2-8407def8f310",
   "metadata": {},
   "outputs": [],
   "source": [
    "## Removing the dollar sign and comma from the columns. If necessary, convert these two\n",
    "def remove_dollar_sign(value):\n",
    "    if pd.isna(value): \n",
    "        return np.NaN\n",
    "    else:\n",
    "        return value.replace(\"$\",\"\").replace(\",\",\"\").replace(\" \",'\"')\n"
   ]
  },
  {
   "cell_type": "code",
   "execution_count": 87,
   "id": "2e81de1d-fb2d-4f43-8664-af27236c4743",
   "metadata": {},
   "outputs": [],
   "source": [
    "df[\"price\"] = df[\"price\"].apply(lambda x: remove_dollar_sign(x))"
   ]
  },
  {
   "cell_type": "code",
   "execution_count": 89,
   "id": "fda72c2d-1436-47a1-99b3-4c562a5cf494",
   "metadata": {},
   "outputs": [
    {
     "data": {
      "text/plain": [
       "0          966\"\n",
       "1          142\"\n",
       "2          620\"\n",
       "3          368\"\n",
       "4          204\"\n",
       "          ...  \n",
       "102594     844\"\n",
       "102595     837\"\n",
       "102596     988\"\n",
       "102597     546\"\n",
       "102598    1032\"\n",
       "Name: price, Length: 102599, dtype: object"
      ]
     },
     "execution_count": 89,
     "metadata": {},
     "output_type": "execute_result"
    }
   ],
   "source": [
    "df[\"price\"] "
   ]
  },
  {
   "cell_type": "code",
   "execution_count": 92,
   "id": "311fd0d1-3792-4c54-bcd5-70b3baa8b61b",
   "metadata": {},
   "outputs": [],
   "source": [
    "df[\"service_fee\"] = df[\"service_fee\"].apply(lambda x: remove_dollar_sign(x))"
   ]
  },
  {
   "cell_type": "code",
   "execution_count": 93,
   "id": "68dbdb53-6133-4fa9-b86e-85ddf47fbed6",
   "metadata": {},
   "outputs": [
    {
     "data": {
      "text/plain": [
       "0         193\"\n",
       "1          28\"\n",
       "2         124\"\n",
       "3          74\"\n",
       "4          41\"\n",
       "          ... \n",
       "102594    169\"\n",
       "102595    167\"\n",
       "102596    198\"\n",
       "102597    109\"\n",
       "102598    206\"\n",
       "Name: service_fee, Length: 102599, dtype: object"
      ]
     },
     "execution_count": 93,
     "metadata": {},
     "output_type": "execute_result"
    }
   ],
   "source": [
    "df[\"service_fee\"]  "
   ]
  },
  {
   "cell_type": "markdown",
   "id": "7a0973e0-3ab6-455b-bd7d-989dc553a580",
   "metadata": {},
   "source": [
    "# Exploration"
   ]
  },
  {
   "cell_type": "code",
   "execution_count": 39,
   "id": "f6bae8d5-0859-4ec8-bb6a-222e17fdac2e",
   "metadata": {},
   "outputs": [
    {
     "data": {
      "text/plain": [
       "Entire home/apt    53701\n",
       "Private room       46556\n",
       "Shared room         2226\n",
       "Hotel room           116\n",
       "Name: room_type, dtype: int64"
      ]
     },
     "execution_count": 39,
     "metadata": {},
     "output_type": "execute_result"
    }
   ],
   "source": [
    "## List the count of various room types avaliable with Airbnb \n",
    "df['room_type'].value_counts()"
   ]
  },
  {
   "cell_type": "code",
   "execution_count": 95,
   "id": "c01d7108-c540-41c8-a49e-03b89c537c43",
   "metadata": {},
   "outputs": [],
   "source": [
    "## Which room type adheres to more strict cancellation policy \n",
    "df_group_two= df[df['cancellation_policy']=='strict']"
   ]
  },
  {
   "cell_type": "code",
   "execution_count": 97,
   "id": "8a2940b4-1299-4589-898b-0327babd95f2",
   "metadata": {},
   "outputs": [
    {
     "data": {
      "text/plain": [
       "Entire home/apt    17828\n",
       "Private room       15505\n",
       "Shared room          738\n",
       "Hotel room            35\n",
       "Name: room_type, dtype: int64"
      ]
     },
     "execution_count": 97,
     "metadata": {},
     "output_type": "execute_result"
    }
   ],
   "source": [
    "df_group_two['room_type'].value_counts()"
   ]
  },
  {
   "cell_type": "code",
   "execution_count": 101,
   "id": "de23a3be-10be-46bc-b7dd-fb7ad31bd3db",
   "metadata": {},
   "outputs": [],
   "source": [
    "# Listing the prices per neighbourhood group and also knowing the most expensive\n",
    "grp1 = df.groupby('neighbourhood_group')['price'].sum().sort_values(ascending=False)"
   ]
  },
  {
   "cell_type": "code",
   "execution_count": 102,
   "id": "0b1e8bc4-1e7f-4524-b565-fd41f6e48802",
   "metadata": {},
   "outputs": [
    {
     "name": "stdout",
     "output_type": "stream",
     "text": [
      "neighbourhood_group\n",
      "Brooklyn         966\"368\"71\"1060\"778\"656\"1095\"477\"133\"1050\"816\"...\n",
      "Queens           916\"606\"355\"724\"1084\"938\"405\"907\"1133\"656\"545\"...\n",
      "brookln                                                       580\"\n",
      "Bronx            483\"538\"643\"55\"811\"101\"73\"581\"361\"640\"756\"344\"...\n",
      "manhatan                                                      460\"\n",
      "Manhattan        142\"620\"204\"577\"1018\"291\"319\"606\"714\"149\"578\"2...\n",
      "Staten Island    1015\"725\"784\"593\"1032\"629\"675\"459\"1012\"845\"117...\n",
      "Name: price, dtype: object\n"
     ]
    }
   ],
   "source": [
    "\n",
    "print(grp1)"
   ]
  },
  {
   "cell_type": "markdown",
   "id": "7217b459-3e29-4486-b739-9ce64d5fcf2f",
   "metadata": {},
   "source": [
    "# Visualization\n"
   ]
  },
  {
   "cell_type": "code",
   "execution_count": 104,
   "id": "00b2c5aa-f0be-4231-9074-b7fc1346d4be",
   "metadata": {},
   "outputs": [],
   "source": [
    "# visualization\n",
    "import matplotlib\n",
    "import matplotlib.pyplot as plt\n",
    "import seaborn as sns\n",
    "import plotly.express as px\n",
    "import plotly.graph_objects as go\n",
    "from plotly.subplots import make_subplots"
   ]
  },
  {
   "cell_type": "code",
   "execution_count": 138,
   "id": "5b1a635e-fad1-48a2-aacd-e9809ea93387",
   "metadata": {},
   "outputs": [
    {
     "data": {
      "image/png": "[encoded data removed]",
      "text/plain": [
       "<Figure size 432x288 with 1 Axes>"
      ]
     },
     "metadata": {},
     "output_type": "display_data"
    }
   ],
   "source": [
    "grp2=df['price'].groupby(df['neighbourhood']).sum().sort_values(ascending=False) \n",
    "grp2.head()\n",
    "\n",
    "ax = plt.gca()\n",
    "ax.get_xaxis().get_major_formatter().set_scientific(False)\n",
    "\n",
    "# Plotting the top 10 values from the 'grp2' DataFrame as a horizontal bar plot\n",
    "# Use 'green' color for the bars\n",
    "grp2.head(10).plot(kind='barh', color='green')\n",
    "\n",
    "plt.xlabel(\"Price\")\n",
    "plt.ylabel(\"Neighborhood\")\n",
    "plt.title(\"Top 10 Neighborhoods by Price\")\n",
    "plt.show()\n"
   ]
  },
  {
   "cell_type": "code",
   "execution_count": 110,
   "id": "ca4f06aa-dbf1-4947-acb7-3a40d5b64a9b",
   "metadata": {},
   "outputs": [],
   "source": [
    "df_group_three = df[df['minimum_nights']<=10]"
   ]
  },
  {
   "cell_type": "code",
   "execution_count": 111,
   "id": "7dead2da-3ad0-4079-b15e-05d195a92c40",
   "metadata": {},
   "outputs": [
    {
     "data": {
      "text/plain": [
       "<AxesSubplot:xlabel='minimum_nights', ylabel='neighbourhood_group'>"
      ]
     },
     "execution_count": 111,
     "metadata": {},
     "output_type": "execute_result"
    },
    {
     "data": {
      "image/png": "[encoded data removed]",
      "text/plain": [
       "<Figure size 432x288 with 1 Axes>"
      ]
     },
     "metadata": {},
     "output_type": "display_data"
    }
   ],
   "source": [
    "df_group_three['neighbourhood_group'].value_counts()\n",
    "#df_group_three.plot (kind='bar')\n",
    "sns.barplot(x=\"minimum_nights\",\n",
    "            y=\"neighbourhood_group\",\n",
    "            data=df_group_three,orient = 'h')"
   ]
  },
  {
   "cell_type": "code",
   "execution_count": 120,
   "id": "9dfada6d-a11c-4852-9b20-01d0d7533e69",
   "metadata": {},
   "outputs": [
    {
     "data": {
      "text/plain": [
       "<AxesSubplot:xlabel='room_type', ylabel='mean_price'>"
      ]
     },
     "execution_count": 120,
     "metadata": {},
     "output_type": "execute_result"
    },
    {
     "data": {
      "image/png": "[encoded data removed]",
      "text/plain": [
       "<Figure size 432x288 with 1 Axes>"
      ]
     },
     "metadata": {},
     "output_type": "display_data"
    }
   ],
   "source": [
    "dfl = dfl = df.groupby(['room_type', 'price']).agg(mean_price=(\"price\", 'mean'))\n",
    "dfl = dfl.reset_index()\n",
    "# plot barpLot \n",
    "sns.barplot(x=\"room_type\",\n",
    "            y=\"mean_price\",\n",
    "            data=dfl)"
   ]
  },
  {
   "cell_type": "code",
   "execution_count": 123,
   "id": "f0a9d54a-a677-4f64-8bbd-ea83cfd86db8",
   "metadata": {},
   "outputs": [
    {
     "data": {
      "text/plain": [
       "<AxesSubplot:xlabel='room_type', ylabel='mean_price'>"
      ]
     },
     "execution_count": 123,
     "metadata": {},
     "output_type": "execute_result"
    },
    {
     "data": {
      "image/png": "[encoded data removed]",
      "text/plain": [
       "<Figure size 432x288 with 1 Axes>"
      ]
     },
     "metadata": {},
     "output_type": "display_data"
    }
   ],
   "source": [
    "dfl = dfl = df.groupby(['room_type', 'price']).agg(mean_price=(\"price\", 'mean'))\n",
    "dfl = dfl.reset_index()\n",
    "# plot barpLot \n",
    "sns.barplot(x=\"room_type\",\n",
    "            y=\"mean_price\",\n",
    "            data=dfl)"
   ]
  },
  {
   "cell_type": "code",
   "execution_count": 129,
   "id": "f73d4e6a-61a5-4254-86cc-09b35c8f021e",
   "metadata": {
    "tags": []
   },
   "outputs": [
    {
     "data": {
      "image/png": "[encoded data removed]",
      "text/plain": [
       "<Figure size 432x288 with 1 Axes>"
      ]
     },
     "metadata": {},
     "output_type": "display_data"
    }
   ],
   "source": [
    "\n",
    "plt.title(\"Relationship between size and service fee\", fontsize=25, color=\"red\")\n",
    "sns.scatterplot(x=df.price, y=df.service_fee, hue=df.room_type, s=30);\n",
    "\n",
    "plt.show()"
   ]
  },
  {
   "cell_type": "code",
   "execution_count": 135,
   "id": "85515e1a-8c73-4c13-8907-8e465f90caa6",
   "metadata": {},
   "outputs": [
    {
     "data": {
      "image/png": "[encoded data removed]",
      "text/plain": [
       "<Figure size 432x288 with 1 Axes>"
      ]
     },
     "metadata": {},
     "output_type": "display_data"
    }
   ],
   "source": [
    "df['construction_year_counts'] = df['construction_year'].value_counts()\n",
    "sns.lineplot(x=\"construction_year\", y=\"construction_year_counts\", data=df)\n",
    "plt.show()"
   ]
  },
  {
   "cell_type": "code",
   "execution_count": 136,
   "id": "afbbec48-c195-4a58-a7cc-6ce2d49cdcac",
   "metadata": {},
   "outputs": [
    {
     "data": {
      "image/png": "[encoded data removed]",
      "text/plain": [
       "<Figure size 432x288 with 1 Axes>"
      ]
     },
     "metadata": {},
     "output_type": "display_data"
    }
   ],
   "source": [
    "sns.boxplot(x='review_rate_number', y='price', data=df);"
   ]
  },
  {
   "cell_type": "code",
   "execution_count": 137,
   "id": "fa7d6281-0d16-4062-8665-71d0b28a9da0",
   "metadata": {},
   "outputs": [
    {
     "data": {
      "image/png": "[encoded data removed]",
      "text/plain": [
       "<Figure size 432x288 with 1 Axes>"
      ]
     },
     "metadata": {},
     "output_type": "display_data"
    }
   ],
   "source": [
    "sns.boxplot(x='host_identity_verified', y='price', data=df);"
   ]
  },
  {
   "cell_type": "code",
   "execution_count": null,
   "id": "c22660ac-8ad4-43db-837f-0c3bc383ae54",
   "metadata": {},
   "outputs": [],
   "source": []
  }
 ],
 "metadata": {
  "kernelspec": {
   "display_name": "Python 3 (ipykernel)",
   "language": "python",
   "name": "python3"
  },
  "language_info": {
   "codemirror_mode": {
    "name": "ipython",
    "version": 3
   },
   "file_extension": ".py",
   "mimetype": "text/x-python",
   "name": "python",
   "nbconvert_exporter": "python",
   "pygments_lexer": "ipython3",
   "version": "3.9.7"
  }
 },
 "nbformat": 4,
 "nbformat_minor": 5
}
